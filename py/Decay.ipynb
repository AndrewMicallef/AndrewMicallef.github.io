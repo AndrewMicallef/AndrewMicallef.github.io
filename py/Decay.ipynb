{
 "cells": [
  {
   "cell_type": "code",
   "execution_count": 1,
   "metadata": {
    "collapsed": true
   },
   "outputs": [],
   "source": [
    "import numpy as np\n",
    "\n",
    "import matplotlib.pyplot as plt\n",
    "\n",
    "%matplotlib inline"
   ]
  },
  {
   "cell_type": "code",
   "execution_count": 205,
   "metadata": {
    "collapsed": true
   },
   "outputs": [],
   "source": [
    "time = np.linspace(0,60, 1000)"
   ]
  },
  {
   "cell_type": "code",
   "execution_count": 202,
   "metadata": {
    "collapsed": false
   },
   "outputs": [],
   "source": [
    "events = np.random.rand?"
   ]
  },
  {
   "cell_type": "code",
   "execution_count": null,
   "metadata": {
    "collapsed": true
   },
   "outputs": [],
   "source": [
    "events = np.random.rand"
   ]
  },
  {
   "cell_type": "code",
   "execution_count": null,
   "metadata": {
    "collapsed": true
   },
   "outputs": [],
   "source": []
  },
  {
   "cell_type": "code",
   "execution_count": 223,
   "metadata": {
    "collapsed": true
   },
   "outputs": [],
   "source": [
    "def model_decay(decay_prob):\n",
    "    events = np.random.rand(100,1000)\n",
    "\n",
    "    events = events > decay_prob\n",
    "\n",
    "    for i, (t,e) in enumerate(zip(events.argmax(1), events)):\n",
    "        \n",
    "        e[t:] = True\n",
    "        e[:t] = False\n",
    "        events[i] = e\n",
    "\n",
    "    #events.sort(0)\n",
    "\n",
    "    return events[:,::-1]"
   ]
  },
  {
   "cell_type": "code",
   "execution_count": 224,
   "metadata": {
    "collapsed": false
   },
   "outputs": [
    {
     "data": {
      "text/plain": [
       "<matplotlib.text.Text at 0x729b6d3588>"
      ]
     },
     "execution_count": 224,
     "metadata": {},
     "output_type": "execute_result"
    },
    {
     "data": {
      "image/png": "[encoded data removed]",
      "text/plain": [
       "<matplotlib.figure.Figure at 0x729b6b8be0>"
      ]
     },
     "metadata": {},
     "output_type": "display_data"
    }
   ],
   "source": [
    "fig = plt.figure(figsize = (10,6))\n",
    "for i, decay in enumerate(np.linspace(0.9,.4,400)):\n",
    "    plt.plot(time,model_decay(decay).sum(0), color = plt.cm.PiYG((i/400)))\n",
    "plt.ylim(0,100)\n",
    "plt.xlim(0,60)\n",
    "\n",
    "a = plt.scatter((-1,-1),(-1,-1),c= (0,0), cmap=plt.cm.PiYG, vmin = 1, vmax=0)\n",
    "cb = plt.colorbar(a)\n",
    "cb.set_label(r'$\\lambda$')\n",
    "plt.xlabel('time (min)')\n",
    "plt.ylabel('percent left')"
   ]
  },
  {
   "cell_type": "code",
   "execution_count": 225,
   "metadata": {
    "collapsed": false
   },
   "outputs": [],
   "source": [
    "events = model_decay(decay) "
   ]
  },
  {
   "cell_type": "code",
   "execution_count": 236,
   "metadata": {
    "collapsed": false
   },
   "outputs": [
    {
     "data": {
      "text/plain": [
       "array([900, 974, 626,   0, 985, 893, 856, 603, 974, 907, 863, 916, 961,\n",
       "       953, 812, 642, 786, 767, 853, 988, 819, 942, 986, 930, 935, 982,\n",
       "       886, 969, 948, 975, 961, 896, 964, 989, 986, 824, 860, 855, 979,\n",
       "       994, 969, 993, 891, 894, 992, 909, 992, 852, 873, 946, 808, 971,\n",
       "       782, 970, 942, 940, 883, 952, 985, 832, 887, 891, 994, 982, 513,\n",
       "       866, 730, 985, 979, 991, 474, 703, 826, 682, 875, 793, 975, 903,\n",
       "       853,   0, 967, 989, 916, 968, 899, 946, 966, 998, 844, 918, 965,\n",
       "       917, 979, 983, 858, 976, 885, 971, 832, 949], dtype=int64)"
      ]
     },
     "execution_count": 236,
     "metadata": {},
     "output_type": "execute_result"
    }
   ],
   "source": [
    "np.argmax(np.diff(model_decay(0.99)), 1)"
   ]
  },
  {
   "cell_type": "code",
   "execution_count": 218,
   "metadata": {
    "collapsed": false
   },
   "outputs": [
    {
     "data": {
      "text/plain": [
       "0"
      ]
     },
     "execution_count": 218,
     "metadata": {},
     "output_type": "execute_result"
    }
   ],
   "source": [
    "np.argmax(np.zeros(10))"
   ]
  },
  {
   "cell_type": "code",
   "execution_count": null,
   "metadata": {
    "collapsed": true
   },
   "outputs": [],
   "source": []
  }
 ],
 "metadata": {
  "kernelspec": {
   "display_name": "Python 3",
   "language": "python",
   "name": "python3"
  },
  "language_info": {
   "codemirror_mode": {
    "name": "ipython",
    "version": 3
   },
   "file_extension": ".py",
   "mimetype": "text/x-python",
   "name": "python",
   "nbconvert_exporter": "python",
   "pygments_lexer": "ipython3",
   "version": "3.5.1"
  }
 },
 "nbformat": 4,
 "nbformat_minor": 0
}
