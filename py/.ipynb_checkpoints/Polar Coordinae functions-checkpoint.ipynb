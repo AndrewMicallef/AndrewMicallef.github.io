{
 "cells": [
  {
   "cell_type": "code",
   "execution_count": null,
   "metadata": {
    "collapsed": true
   },
   "outputs": [],
   "source": [
    "from collections import namedtuple\n",
    "\n",
    "# alias a named tuple \n",
    "vector = namedtuple('vector', ['x', 'y', 'z'])(0,0,0)"
   ]
  },
  {
   "cell_type": "code",
   "execution_count": 44,
   "metadata": {
    "collapsed": false
   },
   "outputs": [],
   "source": [
    "class player:\n",
    "    \"\"\"The player object\n",
    "    >>> player([0,0,0])\n",
    "    \"\"\"\n",
    "    \n",
    "    def __init__(self, loc = [0,0,0], v = [0,0,0], mass = 1):\n",
    "        import numpy as np\n",
    "        self.loc = np.array(loc)\n",
    "        self.mass = mass\n",
    "        self.v = np.array(v)\n",
    "        self.p = self.v * self.mass\n",
    "        self.impulse = (0,0,0)\n",
    "\n",
    "    def _update_(self):\n",
    "        \n",
    "        # add the impulse to momentum\n",
    "        # convert momentum to a velocity\n",
    "        # update the position vector\n",
    "        \n",
    "        self.p = self.p + self.impulse\n",
    "        self.v = self.p / self.mass\n",
    "        self.loc += self.v\n",
    "        \n",
    "    def push(self, F = (0,0,0)):\n",
    "        self.impulse = np.array(F / dt)\n",
    "        "
   ]
  },
  {
   "cell_type": "markdown",
   "metadata": {
    "collapsed": false
   },
   "source": [
    "### Convert Cartesian to Polar Coordinate system \n",
    "\n",
    "$x = r \\sin{\\theta}$  \n",
    "$y = r \\sin{\\theta}$\n",
    "\n"
   ]
  },
  {
   "cell_type": "code",
   "execution_count": null,
   "metadata": {
    "collapsed": true
   },
   "outputs": [],
   "source": [
    "    var v_max = 2 # max velocity\n",
    "    \n",
    "    var impulse = new xy([0,0])\n",
    "    \n",
    "    console.log(\"velocty is \" + Ball.v)\n",
    "    console.log(\"momentum is \" + Ball.p.x + Ball.p.y)\n",
    "    \n",
    "    \n",
    "    # The momentum principle:\n",
    "    # -----------------------\n",
    "    # \n",
    "    # An object has momentum. Momentum is determined\n",
    "    # as the mass of the object multiplied by the object's \n",
    "    # velocity.\n",
    "    # \n",
    "    # py = vy * mass\n",
    "    # px = px * mass\n",
    "    # \n",
    "    # Force acts on momentum. The impulse is the force over dt.\n",
    "    # \n",
    "    # p = p + F/dt\n",
    "    #\n",
    "    \n",
    "    var xmlns = \"http:#www.w3.org/2000/svg\"\n",
    "    \n",
    "    # Quest: Find a way to land the traveller in the world\n",
    "    var traveller = document.createElementNS(xmlns, \"circle\")      \n",
    "    \n",
    "    traveller.setAttributeNS(null,\"x\",50)\n",
    "    traveller.setAttributeNS(null,\"y\",50)\n",
    "    traveller.setAttributeNS(null,\"r\",50)\n",
    "    traveller.setAttributeNS(null,\"fill\", \"black\")\n",
    "    document.documentElement.appendChild(traveller)\n",
    "    \n",
    "    # self def is called on page load.\n",
    "\n",
    "    def drawGameSVG() \n",
    "\n",
    "        # Play the game until the player stops.\n",
    "        gameLoop = setInterval(drawBall, 1)\n",
    "\n",
    "        # Add keyboard listener.\n",
    "        window.addEventListener('keydown', whatKey, true)\n",
    "        \n",
    "    \n",
    "\n",
    "    def drawBall() \n",
    "        Ball.updatepos(impulse)\n",
    "        impulse.x = 0\n",
    "        impulse.y = 0\n",
    "        \n",
    "        # Change the player location.\n",
    "        player.setAttribute(\"cx\", Ball.loc.x)\n",
    "        player.setAttribute(\"cy\", Ball.loc.y)\n",
    "    \n",
    "    # Get key press.\n",
    "    def whatKey(evt) \n",
    "\n",
    "        switch (evt.keyCode) \n",
    "            # Left arrow.\n",
    "            case 37:\n",
    "            impulse.x = -1\n",
    "            break\n",
    "            # Right arrow.\n",
    "            case 39:\n",
    "            impulse.x = 1\n",
    "            break\n",
    "            #Up arrow\n",
    "            case 38:\n",
    "            impulse.y = -1\n",
    "            break\n",
    "            #Down arrow\n",
    "            case 40:\n",
    "            impulse.y = 1\n",
    "            break"
   ]
  }
 ],
 "metadata": {
  "kernelspec": {
   "display_name": "Python 3",
   "language": "python",
   "name": "python3"
  },
  "language_info": {
   "codemirror_mode": {
    "name": "ipython",
    "version": 3
   },
   "file_extension": ".py",
   "mimetype": "text/x-python",
   "name": "python",
   "nbconvert_exporter": "python",
   "pygments_lexer": "ipython3",
   "version": "3.5.1"
  }
 },
 "nbformat": 4,
 "nbformat_minor": 0
}
