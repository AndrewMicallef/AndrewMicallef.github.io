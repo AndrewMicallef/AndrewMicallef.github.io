{
 "cells": [
  {
   "cell_type": "code",
   "execution_count": 32,
   "metadata": {
    "collapsed": false
   },
   "outputs": [],
   "source": [
    "from collections import namedtuple\n",
    "\n",
    "# alias a named tuple \n",
    "vector = namedtuple('vector', ['x', 'y', 'z'])#(0,0,0)"
   ]
  },
  {
   "cell_type": "code",
   "execution_count": 36,
   "metadata": {
    "collapsed": false
   },
   "outputs": [],
   "source": [
    "import numpy as np\n",
    "vector = np.array((0,0,0))"
   ]
  },
  {
   "cell_type": "code",
   "execution_count": 54,
   "metadata": {
    "collapsed": true
   },
   "outputs": [],
   "source": [
    "import numpy as np\n",
    "\n",
    "class unitArray(np.ndarray):\n",
    "\n",
    "    def __new__(subtype, shape=(3), dtype=float, buffer=None, offset=0,\n",
    "          strides=None, order=None, units=None):\n",
    "        # Create the ndarray instance of our type, given the usual\n",
    "        # ndarray input arguments.  This will call the standard\n",
    "        # ndarray constructor, but return an object of our type.\n",
    "        # It also triggers a call to InfoArray.__array_finalize__\n",
    "        obj = np.ndarray.__new__(subtype, shape, dtype, buffer, offset, strides,\n",
    "                         order)\n",
    "        # set the new 'info' attribute to the value passed\n",
    "        obj.units = units\n",
    "        obj.istimevec = True if 's' in units else False\n",
    "        # Finally, we must return the newly created object:\n",
    "        return obj\n",
    "\n",
    "    def __array_finalize__(self, obj):\n",
    "        # ``self`` is a new object resulting from\n",
    "        # ndarray.__new__(InfoArray, ...), therefore it only has\n",
    "        # attributes that the ndarray.__new__ constructor gave it -\n",
    "        # i.e. those of a standard ndarray.\n",
    "        #\n",
    "        # We could have got to the ndarray.__new__ call in 3 ways:\n",
    "        # From an explicit constructor - e.g. InfoArray():\n",
    "        #    obj is None\n",
    "        #    (we're in the middle of the InfoArray.__new__\n",
    "        #    constructor, and self.info will be set when we return to\n",
    "        #    InfoArray.__new__)\n",
    "        if obj is None: return\n",
    "        # From view casting - e.g arr.view(InfoArray):\n",
    "        #    obj is arr\n",
    "        #    (type(obj) can be InfoArray)\n",
    "        # From new-from-template - e.g infoarr[:3]\n",
    "        #    type(obj) is InfoArray\n",
    "        #\n",
    "        # Note that it is here, rather than in the __new__ method,\n",
    "        # that we set the default value for 'info', because this\n",
    "        # method sees all creation of default objects - with the\n",
    "        # InfoArray.__new__ constructor, but also with\n",
    "        # arr.view(InfoArray).\n",
    "        self.units = getattr(obj, 'units', None)\n",
    "        self.istimevec = False\n",
    "        # We do not need to return anything"
   ]
  },
  {
   "cell_type": "code",
   "execution_count": 55,
   "metadata": {
    "collapsed": false
   },
   "outputs": [],
   "source": [
    "a = unitArray((1,1,1), units = 'm/s')"
   ]
  },
  {
   "cell_type": "code",
   "execution_count": 56,
   "metadata": {
    "collapsed": false
   },
   "outputs": [
    {
     "data": {
      "text/plain": [
       "True"
      ]
     },
     "execution_count": 56,
     "metadata": {},
     "output_type": "execute_result"
    }
   ],
   "source": [
    "a.istimevec"
   ]
  },
  {
   "cell_type": "code",
   "execution_count": 44,
   "metadata": {
    "collapsed": false
   },
   "outputs": [],
   "source": [
    "class player:\n",
    "    \"\"\"The player object\n",
    "    >>> player([0,0,0])\n",
    "    \"\"\"\n",
    "    \n",
    "    def __init__(self, loc = [0,0,0], v = [0,0,0], mass = 1):\n",
    "        import numpy as np\n",
    "        self.loc = np.array(loc)\n",
    "        self.mass = mass\n",
    "        self.v = np.array(v)\n",
    "        self.p = self.v * self.mass\n",
    "        self.impulse = (0,0,0)\n",
    "\n",
    "    def _update_(self):\n",
    "        \n",
    "        # add the impulse to momentum\n",
    "        # convert momentum to a velocity\n",
    "        # update the position vector\n",
    "        \n",
    "        self.p = self.p + self.impulse\n",
    "        self.v = self.p / self.mass\n",
    "        self.loc += self.v\n",
    "        \n",
    "    def push(self, F = (0,0,0)):\n",
    "        self.impulse = np.array(F / dt)\n",
    "        "
   ]
  },
  {
   "cell_type": "markdown",
   "metadata": {},
   "source": [
    "### Convert Cartesian to Polar Coordinate system \n",
    "\n",
    "$x = r \\sin{\\theta}$  \n",
    "$y = r \\sin{\\theta}$  \n",
    "$z = r \\sin{\\theta}$\n",
    "\n",
    "# Premise\n",
    "\n",
    "The idea of this game is to stradle between universes with different dimensionalities. The Player object by default inhabits a 4 dimensional world which has 3 spatial dimensions ($x, y, z$) and one time dimension ($t$). Into this world an otherworldy object randomly spawns, which warps the space time around it, causing the spatial deminsion which radiates from it's axis to collapse into the temporal dimension. The effect being that travel is restricted to movement towards the object. When the player approaches the object movement is best defined by polar coordinates.\n",
    "\n",
    "Force can only be applied such that the radial component is always decreasing.\n",
    "\n",
    "$\\hat{F} = [f_x, f_y, f_z]$  \n",
    "$f_x =   $"
   ]
  },
  {
   "cell_type": "code",
   "execution_count": null,
   "metadata": {
    "collapsed": true
   },
   "outputs": [],
   "source": [
    "import matplotlib.pyplot as plt\n",
    "import numpy as np\n",
    "\n",
    "%matplotlib inline"
   ]
  },
  {
   "cell_type": "code",
   "execution_count": null,
   "metadata": {
    "collapsed": true
   },
   "outputs": [],
   "source": [
    "x = 0"
   ]
  },
  {
   "cell_type": "code",
   "execution_count": 216,
   "metadata": {
    "collapsed": false
   },
   "outputs": [
    {
     "data": {
      "text/plain": [
       "<slot wrapper '__iter__' of 'list' objects>"
      ]
     },
     "execution_count": 216,
     "metadata": {},
     "output_type": "execute_result"
    }
   ],
   "source": []
  },
  {
   "cell_type": "markdown",
   "metadata": {},
   "source": [
    "### spherical coordinates\n",
    "\n",
    "$x = r \\sin{\\theta} \\cos{\\phi}$  \n",
    "$y = r \\sin{\\theta} \\sin{\\phi}$  \n",
    "$z = r \\cos{\\theta}$"
   ]
  },
  {
   "cell_type": "code",
   "execution_count": 211,
   "metadata": {
    "collapsed": false
   },
   "outputs": [
    {
     "data": {
      "text/plain": [
       "<matplotlib.collections.PathCollection at 0x1d429ac7f0>"
      ]
     },
     "execution_count": 211,
     "metadata": {},
     "output_type": "execute_result"
    },
    {
     "data": {
      "image/png": "[encoded data removed]",
      "text/plain": [
       "<matplotlib.figure.Figure at 0x1d423b9dd8>"
      ]
     },
     "metadata": {},
     "output_type": "display_data"
    }
   ],
   "source": [
    "#fig = plt.figure()\n",
    "\n",
    "#ax1 = fig.add_subplot(121)\n",
    "#ax2 = fig.add_subplot(122, polar = True)\n",
    "\n",
    "\n",
    "#X = np.linspace(-4*np.pi,4*np.pi, 100)\n",
    "#Y = np.sin(X)\n",
    "\n",
    "def cart2polar(X, Y):\n",
    "    \"\"\"\n",
    "    converts an X, Y pair to \n",
    "    \"\"\"\n",
    "\n",
    "    r =  np.sqrt((X**2) + (Y**2))\n",
    "    theta = np.arctan(Y/X)\n",
    "    theta[(X < 0)] = np.pi+ theta[(X < 0)]\n",
    "\n",
    "    return r, theta\n",
    "\n",
    "#theta[(X > 0) & (Y < 0)] += 2*np.pi\n",
    "\n",
    "#ax1.plot(X,Y)\n",
    "#ax2.plot(theta, r)\n",
    "\n",
    "#\n",
    "#ax1.scatter(X[10], Y[10])\n",
    "#ax2.scatter(theta[10], r[10])"
   ]
  },
  {
   "cell_type": "code",
   "execution_count": 208,
   "metadata": {
    "collapsed": false
   },
   "outputs": [
    {
     "data": {
      "text/plain": [
       "<matplotlib.collections.LineCollection at 0x1d427a1588>"
      ]
     },
     "execution_count": 208,
     "metadata": {},
     "output_type": "execute_result"
    },
    {
     "data": {
      "image/png": "[encoded data removed]",
      "text/plain": [
       "<matplotlib.figure.Figure at 0x1d427a1668>"
      ]
     },
     "metadata": {},
     "output_type": "display_data"
    }
   ],
   "source": [
    "#plt.plot( X, r)\n",
    "plt.plot( X, np.degrees(theta))\n",
    "plt.hlines(45,-10,10)\n",
    "plt.hlines(225,-10,10)\n",
    "#plt.plot( X, Y)\n",
    "\n"
   ]
  },
  {
   "cell_type": "code",
   "execution_count": 139,
   "metadata": {
    "collapsed": false
   },
   "outputs": [
    {
     "data": {
      "text/plain": [
       "array([ -2.23348794e-15,  -2.03949703e-02,  -4.02975454e-02,\n",
       "        -5.83911768e-02,  -7.34312594e-02,  -8.43263132e-02,\n",
       "        -9.02056394e-02,  -9.04720135e-02,  -8.48415213e-02,\n",
       "        -7.33732711e-02,  -5.64891262e-02,  -3.49791389e-02,\n",
       "        -9.98457004e-03,   1.70498793e-02,   4.44579931e-02,\n",
       "         7.04623048e-02,   9.32977073e-02,   1.11329508e-01,\n",
       "         1.23151103e-01,   1.27656569e-01,   1.24094236e-01,\n",
       "         1.12113290e-01,   9.18136811e-02,   6.38000345e-02,\n",
       "         2.92260566e-02,  -1.01968792e-02,  -5.22556273e-02,\n",
       "        -9.43690875e-02,  -1.33783032e-01,  -1.67779429e-01,\n",
       "        -1.93845137e-01,  -2.09764926e-01,  -2.13640949e-01,\n",
       "        -2.03875844e-01,  -1.79177752e-01,  -1.38650765e-01,\n",
       "        -8.20206454e-02,  -9.99798861e-03,   7.53200154e-02,\n",
       "         1.70240199e-01,   2.69731822e-01,   3.68232345e-01,\n",
       "         4.60703386e-01,   5.43433886e-01,   6.14285246e-01,\n",
       "         6.72449165e-01,   7.17989011e-01,   7.51395171e-01,\n",
       "         7.73256407e-01,   7.84054777e-01,   7.84054777e-01,\n",
       "         7.73256407e-01,   7.51395171e-01,   7.17989011e-01,\n",
       "         6.72449165e-01,   6.14285246e-01,   5.43433886e-01,\n",
       "         4.60703386e-01,   3.68232345e-01,   2.69731822e-01,\n",
       "         1.70240199e-01,   7.53200154e-02,  -9.99798861e-03,\n",
       "        -8.20206454e-02,  -1.38650765e-01,  -1.79177752e-01,\n",
       "        -2.03875844e-01,  -2.13640949e-01,  -2.09764926e-01,\n",
       "        -1.93845137e-01,  -1.67779429e-01,  -1.33783032e-01,\n",
       "        -9.43690875e-02,  -5.22556273e-02,  -1.01968792e-02,\n",
       "         2.92260566e-02,   6.38000345e-02,   9.18136811e-02,\n",
       "         1.12113290e-01,   1.24094236e-01,   1.27656569e-01,\n",
       "         1.23151103e-01,   1.11329508e-01,   9.32977073e-02,\n",
       "         7.04623048e-02,   4.44579931e-02,   1.70498793e-02,\n",
       "        -9.98457004e-03,  -3.49791389e-02,  -5.64891262e-02,\n",
       "        -7.33732711e-02,  -8.48415213e-02,  -9.04720135e-02,\n",
       "        -9.02056394e-02,  -8.43263132e-02,  -7.34312594e-02,\n",
       "        -5.83911768e-02,  -4.02975454e-02,  -2.03949703e-02,\n",
       "        -3.89817183e-17])"
      ]
     },
     "execution_count": 139,
     "metadata": {},
     "output_type": "execute_result"
    }
   ],
   "source": [
    "r"
   ]
  },
  {
   "cell_type": "code",
   "execution_count": 122,
   "metadata": {
    "collapsed": false
   },
   "outputs": [
    {
     "data": {
      "text/plain": [
       "1.1883951057781212"
      ]
     },
     "execution_count": 122,
     "metadata": {},
     "output_type": "execute_result"
    }
   ],
   "source": [
    "np.sin(1)**-1"
   ]
  },
  {
   "cell_type": "code",
   "execution_count": null,
   "metadata": {
    "collapsed": true
   },
   "outputs": [],
   "source": [
    "ax = ax[1] "
   ]
  },
  {
   "cell_type": "code",
   "execution_count": 68,
   "metadata": {
    "collapsed": false
   },
   "outputs": [
    {
     "data": {
      "text/plain": [
       "{'adjustable': 'box',\n",
       " 'agg_filter': None,\n",
       " 'alpha': None,\n",
       " 'anchor': 'C',\n",
       " 'animated': False,\n",
       " 'aspect': 'auto',\n",
       " 'autoscale_on': True,\n",
       " 'autoscalex_on': True,\n",
       " 'autoscaley_on': True,\n",
       " 'axes': <matplotlib.axes._subplots.AxesSubplot at 0x1d3775d5c0>,\n",
       " 'axes_locator': None,\n",
       " 'axis_bgcolor': 'w',\n",
       " 'axisbelow': False,\n",
       " 'children': [<matplotlib.spines.Spine at 0x1d3775dfd0>,\n",
       "  <matplotlib.spines.Spine at 0x1d37762438>,\n",
       "  <matplotlib.spines.Spine at 0x1d37762240>,\n",
       "  <matplotlib.spines.Spine at 0x1d37762630>,\n",
       "  <matplotlib.axis.XAxis at 0x1d377627f0>,\n",
       "  <matplotlib.axis.YAxis at 0x1d3776ce48>,\n",
       "  <matplotlib.text.Text at 0x1d3777e5c0>,\n",
       "  <matplotlib.text.Text at 0x1d3777e6a0>,\n",
       "  <matplotlib.text.Text at 0x1d3777e400>,\n",
       "  <matplotlib.patches.Rectangle at 0x1d3777e4e0>],\n",
       " 'clip_box': None,\n",
       " 'clip_on': True,\n",
       " 'clip_path': None,\n",
       " 'contains': None,\n",
       " 'cursor_props': (1, (0.0, 0.0, 0.0, 1.0)),\n",
       " 'data_ratio': 1.0,\n",
       " 'default_bbox_extra_artists': [<matplotlib.spines.Spine at 0x1d3775dfd0>,\n",
       "  <matplotlib.spines.Spine at 0x1d37762438>,\n",
       "  <matplotlib.spines.Spine at 0x1d37762240>,\n",
       "  <matplotlib.spines.Spine at 0x1d37762630>,\n",
       "  <matplotlib.axis.XAxis at 0x1d377627f0>,\n",
       "  <matplotlib.axis.YAxis at 0x1d3776ce48>,\n",
       "  <matplotlib.text.Text at 0x1d3777e5c0>,\n",
       "  <matplotlib.text.Text at 0x1d3777e6a0>,\n",
       "  <matplotlib.text.Text at 0x1d3777e400>,\n",
       "  <matplotlib.patches.Rectangle at 0x1d3777e4e0>],\n",
       " 'figure': <matplotlib.figure.Figure at 0x1d36b4c2b0>,\n",
       " 'frame_on': True,\n",
       " 'geometry': (2, 1, 2),\n",
       " 'gid': None,\n",
       " 'images': <a list of 0 AxesImage objects>,\n",
       " 'label': '',\n",
       " 'legend': None,\n",
       " 'legend_handles_labels': ([], []),\n",
       " 'lines': <a list of 0 Line2D objects>,\n",
       " 'navigate': True,\n",
       " 'navigate_mode': None,\n",
       " 'path_effects': [],\n",
       " 'picker': None,\n",
       " 'position': Bbox([[0.125, 0.1250000000000001], [0.9, 0.47727272727272735]]),\n",
       " 'rasterization_zorder': None,\n",
       " 'rasterized': None,\n",
       " 'renderer_cache': <matplotlib.backends.backend_agg.RendererAgg at 0x1d376d2780>,\n",
       " 'shared_x_axes': <matplotlib.cbook.Grouper at 0x1d367f0470>,\n",
       " 'shared_y_axes': <matplotlib.cbook.Grouper at 0x1d367f04e0>,\n",
       " 'sketch_params': None,\n",
       " 'snap': None,\n",
       " 'subplotspec': <matplotlib.gridspec.SubplotSpec at 0x1d3775d550>,\n",
       " 'title': '',\n",
       " 'transform': IdentityTransform(),\n",
       " 'transformed_clip_path_and_affine': (None, None),\n",
       " 'url': None,\n",
       " 'visible': True,\n",
       " 'window_extent': TransformedBbox(Bbox([[0.125, 0.1250000000000001], [0.9, 0.47727272727272735]]), BboxTransformTo(TransformedBbox(Bbox([[0.0, 0.0], [6.0, 4.0]]), Affine2D(array([[ 80.,   0.,   0.],\n",
       "        [  0.,  80.,   0.],\n",
       "        [  0.,   0.,   1.]]))))),\n",
       " 'xaxis': <matplotlib.axis.XAxis at 0x1d377627f0>,\n",
       " 'xaxis_transform': BlendedGenericTransform(CompositeGenericTransform(TransformWrapper(BlendedAffine2D(IdentityTransform(),IdentityTransform())), CompositeGenericTransform(BboxTransformFrom(TransformedBbox(Bbox([[0.0, 0.0], [1.0, 1.0]]), TransformWrapper(BlendedAffine2D(IdentityTransform(),IdentityTransform())))), BboxTransformTo(TransformedBbox(Bbox([[0.125, 0.1250000000000001], [0.9, 0.47727272727272735]]), BboxTransformTo(TransformedBbox(Bbox([[0.0, 0.0], [6.0, 4.0]]), Affine2D(array([[ 80.,   0.,   0.],\n",
       "        [  0.,  80.,   0.],\n",
       "        [  0.,   0.,   1.]])))))))),BboxTransformTo(TransformedBbox(Bbox([[0.125, 0.1250000000000001], [0.9, 0.47727272727272735]]), BboxTransformTo(TransformedBbox(Bbox([[0.0, 0.0], [6.0, 4.0]]), Affine2D(array([[ 80.,   0.,   0.],\n",
       "        [  0.,  80.,   0.],\n",
       "        [  0.,   0.,   1.]]))))))),\n",
       " 'xbound': (0.0, 1.0),\n",
       " 'xgridlines': <a list of 6 Line2D xgridline objects>,\n",
       " 'xlabel': '',\n",
       " 'xlim': (0.0, 1.0),\n",
       " 'xmajorticklabels': <a list of 6 Text xticklabel objects>,\n",
       " 'xminorticklabels': <a list of 0 Text xticklabel objects>,\n",
       " 'xscale': 'linear',\n",
       " 'xticklabels': <a list of 6 Text xticklabel objects>,\n",
       " 'xticklines': <a list of 12 Text xtickline objects>,\n",
       " 'xticks': array([ 0. ,  0.2,  0.4,  0.6,  0.8,  1. ]),\n",
       " 'yaxis': <matplotlib.axis.YAxis at 0x1d3776ce48>,\n",
       " 'yaxis_transform': BlendedGenericTransform(BboxTransformTo(TransformedBbox(Bbox([[0.125, 0.1250000000000001], [0.9, 0.47727272727272735]]), BboxTransformTo(TransformedBbox(Bbox([[0.0, 0.0], [6.0, 4.0]]), Affine2D(array([[ 80.,   0.,   0.],\n",
       "        [  0.,  80.,   0.],\n",
       "        [  0.,   0.,   1.]])))))),CompositeGenericTransform(TransformWrapper(BlendedAffine2D(IdentityTransform(),IdentityTransform())), CompositeGenericTransform(BboxTransformFrom(TransformedBbox(Bbox([[0.0, 0.0], [1.0, 1.0]]), TransformWrapper(BlendedAffine2D(IdentityTransform(),IdentityTransform())))), BboxTransformTo(TransformedBbox(Bbox([[0.125, 0.1250000000000001], [0.9, 0.47727272727272735]]), BboxTransformTo(TransformedBbox(Bbox([[0.0, 0.0], [6.0, 4.0]]), Affine2D(array([[ 80.,   0.,   0.],\n",
       "        [  0.,  80.,   0.],\n",
       "        [  0.,   0.,   1.]]))))))))),\n",
       " 'ybound': (0.0, 1.0),\n",
       " 'ygridlines': <a list of 6 Line2D ygridline objects>,\n",
       " 'ylabel': '',\n",
       " 'ylim': (0.0, 1.0),\n",
       " 'ymajorticklabels': <a list of 6 Text yticklabel objects>,\n",
       " 'yminorticklabels': <a list of 0 Text yticklabel objects>,\n",
       " 'yscale': 'linear',\n",
       " 'yticklabels': <a list of 6 Text yticklabel objects>,\n",
       " 'yticklines': <a list of 12 Line2D ytickline objects>,\n",
       " 'yticks': array([ 0. ,  0.2,  0.4,  0.6,  0.8,  1. ]),\n",
       " 'zorder': 0}"
      ]
     },
     "execution_count": 68,
     "metadata": {},
     "output_type": "execute_result"
    }
   ],
   "source": [
    "ax.properties()"
   ]
  },
  {
   "cell_type": "code",
   "execution_count": 60,
   "metadata": {
    "collapsed": false
   },
   "outputs": [],
   "source": [
    "plt.plot?"
   ]
  },
  {
   "cell_type": "markdown",
   "metadata": {
    "collapsed": false
   },
   "source": [
    "x = r sin(theta)\n",
    "\n",
    "r = x / sin(theta)\n",
    "theta = sin^-1(r/x)"
   ]
  },
  {
   "cell_type": "code",
   "execution_count": null,
   "metadata": {
    "collapsed": true
   },
   "outputs": [],
   "source": [
    "    var v_max = 2 # max velocity\n",
    "    \n",
    "    var impulse = new xy([0,0])\n",
    "    \n",
    "    console.log(\"velocty is \" + Ball.v)\n",
    "    console.log(\"momentum is \" + Ball.p.x + Ball.p.y)\n",
    "    \n",
    "    \n",
    "    # The momentum principle:\n",
    "    # -----------------------\n",
    "    # \n",
    "    # An object has momentum. Momentum is determined\n",
    "    # as the mass of the object multiplied by the object's \n",
    "    # velocity.\n",
    "    # \n",
    "    # py = vy * mass\n",
    "    # px = px * mass\n",
    "    # \n",
    "    # Force acts on momentum. The impulse is the force over dt.\n",
    "    # \n",
    "    # p = p + F/dt\n",
    "    #\n",
    "    \n",
    "    var xmlns = \"http:#www.w3.org/2000/svg\"\n",
    "    \n",
    "    # Quest: Find a way to land the traveller in the world\n",
    "    var traveller = document.createElementNS(xmlns, \"circle\")      \n",
    "    \n",
    "    traveller.setAttributeNS(null,\"x\",50)\n",
    "    traveller.setAttributeNS(null,\"y\",50)\n",
    "    traveller.setAttributeNS(null,\"r\",50)\n",
    "    traveller.setAttributeNS(null,\"fill\", \"black\")\n",
    "    document.documentElement.appendChild(traveller)\n",
    "    \n",
    "    # self def is called on page load.\n",
    "\n",
    "    def drawGameSVG() \n",
    "\n",
    "        # Play the game until the player stops.\n",
    "        gameLoop = setInterval(drawBall, 1)\n",
    "\n",
    "        # Add keyboard listener.\n",
    "        window.addEventListener('keydown', whatKey, true)\n",
    "        \n",
    "    \n",
    "\n",
    "    def drawBall() \n",
    "        Ball.updatepos(impulse)\n",
    "        impulse.x = 0\n",
    "        impulse.y = 0\n",
    "        \n",
    "        # Change the player location.\n",
    "        player.setAttribute(\"cx\", Ball.loc.x)\n",
    "        player.setAttribute(\"cy\", Ball.loc.y)\n",
    "    \n",
    "    # Get key press.\n",
    "    def whatKey(evt) \n",
    "\n",
    "        switch (evt.keyCode) \n",
    "            # Left arrow.\n",
    "            case 37:\n",
    "            impulse.x = -1\n",
    "            break\n",
    "            # Right arrow.\n",
    "            case 39:\n",
    "            impulse.x = 1\n",
    "            break\n",
    "            #Up arrow\n",
    "            case 38:\n",
    "            impulse.y = -1\n",
    "            break\n",
    "            #Down arrow\n",
    "            case 40:\n",
    "            impulse.y = 1\n",
    "            break"
   ]
  }
 ],
 "metadata": {
  "kernelspec": {
   "display_name": "Python 3",
   "language": "python",
   "name": "python3"
  },
  "language_info": {
   "codemirror_mode": {
    "name": "ipython",
    "version": 3
   },
   "file_extension": ".py",
   "mimetype": "text/x-python",
   "name": "python",
   "nbconvert_exporter": "python",
   "pygments_lexer": "ipython3",
   "version": "3.5.1"
  }
 },
 "nbformat": 4,
 "nbformat_minor": 0
}
