{
 "cells": [
  {
   "cell_type": "code",
   "execution_count": 1,
   "metadata": {
    "collapsed": true
   },
   "outputs": [],
   "source": [
    "import matplotlib.pyplot as plt\n",
    "import numpy as np\n",
    "import pdb\n",
    "\n",
    "%matplotlib inline"
   ]
  },
  {
   "cell_type": "code",
   "execution_count": 16,
   "metadata": {
    "collapsed": false
   },
   "outputs": [],
   "source": [
    "class physobj():\n",
    "    \n",
    "    ###dt = 0.001\n",
    "    \n",
    "    def __init__(self, loc = [0,0,0], v = [0,0,0], mass = 1):\n",
    "        self.location = np.array(loc)\n",
    "        self.mass = mass\n",
    "        self.velocity = np.array(v)\n",
    "        \n",
    "    def applyForce(self, force, dt = 0.01):\n",
    "        \n",
    "        force = np.array(force)\n",
    "        velocity = self.velocity\n",
    "        mass = self.mass\n",
    "        \n",
    "        impulse = force * dt\n",
    "        \n",
    "        momentum = velocity * mass\n",
    "        momentum = momentum + impulse\n",
    "        velocity = momentum / mass\n",
    "\n",
    "        self.velocity = velocity\n",
    "    \n",
    "    def update(self, dt = 0.01):\n",
    "        loc = self.location\n",
    "        v = self.velocity\n",
    "        \n",
    "        self.location = loc + (v*dt)"
   ]
  },
  {
   "cell_type": "code",
   "execution_count": 64,
   "metadata": {
    "collapsed": false
   },
   "outputs": [
    {
     "name": "stderr",
     "output_type": "stream",
     "text": [
      "e:\\program files\\python35\\lib\\site-packages\\ipykernel\\__main__.py:10: RuntimeWarning: divide by zero encountered in double_scalars\n"
     ]
    },
    {
     "data": {
      "text/plain": [
       "<matplotlib.collections.LineCollection at 0x237979c1ba8>"
      ]
     },
     "execution_count": 64,
     "metadata": {},
     "output_type": "execute_result"
    },
    {
     "data": {
      "image/png": "[encoded data removed]",
      "text/plain": [
       "<matplotlib.figure.Figure at 0x23797921390>"
      ]
     },
     "metadata": {},
     "output_type": "display_data"
    }
   ],
   "source": [
    "jeremy = physobj()\n",
    "\n",
    "jeremy.velocity = np.array((0,1,0))\n",
    "\n",
    "\n",
    "loc = []\n",
    "for i in range(100):\n",
    "    #if i > 25 and i < 50:\n",
    "    #    jeremy.applyForce((0,40,0))\n",
    "    \n",
    "    if i > 60:# and i < 75:\n",
    "        jeremy.applyForce((40,-4,20))\n",
    "    \n",
    "    jeremy.update()\n",
    "    loc.append(jeremy.location)\n",
    "\n",
    "\n",
    "plt.plot(np.arange(100)*0.01, np.array(loc)[:,1])\n",
    "#plt.hlines( 0.2, 25*0.01, 50*0.01)\n",
    "#plt.text(25*0.01, 0.1, '2 N applied to y')\n",
    "\n",
    "loc = np.array([vector2sphere(l) for l in loc])\n",
    "\n",
    "plt.plot(np.arange(100)*0.01, np.array(loc)[:,0], 'r')\n",
    "plt.plot(np.arange(100)*0.01, np.array(loc)[:,1], 'g')\n",
    "plt.hlines( 0.2, 25*0.01, 50*0.01)\n",
    "#plt.text(25*0.01, 0.1, '2 N applied to y')"
   ]
  },
  {
   "cell_type": "code",
   "execution_count": 65,
   "metadata": {
    "collapsed": false
   },
   "outputs": [],
   "source": [
    "def vector2sphere(vector):\n",
    "    \"\"\"\n",
    "    converts a 3d cartesian vector to a spherical vector\n",
    "    \"\"\"\n",
    "    \n",
    "    x,y,z = vector\n",
    "    \n",
    "      \n",
    "    R = np.sqrt((x**2) + (y**2) + (z*2))\n",
    "    theta = np.arctan(y/x)\n",
    "    phi = np.arcsin(z/R)\n",
    "    \n",
    "    sign = x + y + z / abs(x + y + z)\n",
    "    R = R*sign\n",
    "    theta = abs(theta)\n",
    "    phi = abs(phi)   \n",
    "\n",
    "    return np.array((R, theta, phi))\n",
    "\n",
    "\n",
    "def sphere2vector(sphere):\n",
    "    \"\"\"\n",
    "    converts a 3d cartesian vector to a spherical vector\n",
    "    \"\"\"\n",
    "    \n",
    "    R,theta,phi = sphere\n",
    "      \n",
    "    x = R * np.sin(theta) * np.cos(phi)\n",
    "    y = R * np.sin(theta) * np.sin(phi)\n",
    "    z = R * np.cos(theta)\n",
    "    \n",
    "    return np.array((x, y, z))"
   ]
  },
  {
   "cell_type": "code",
   "execution_count": 18,
   "metadata": {
    "collapsed": true
   },
   "outputs": [],
   "source": [
    "    "
   ]
  },
  {
   "cell_type": "code",
   "execution_count": 23,
   "metadata": {
    "collapsed": false
   },
   "outputs": [
    {
     "data": {
      "text/plain": [
       "<module 'numpy.core.multiarray' from 'e:\\\\program files\\\\python35\\\\lib\\\\site-packages\\\\numpy\\\\core\\\\multiarray.cp35-win_amd64.pyd'>"
      ]
     },
     "execution_count": 23,
     "metadata": {},
     "output_type": "execute_result"
    }
   ],
   "source": []
  },
  {
   "cell_type": "markdown",
   "metadata": {},
   "source": [
    "### Convert Cartesian to Polar Coordinate system \n",
    "\n",
    "$x = r \\sin{\\theta}$  \n",
    "$y = r \\sin{\\theta}$  \n",
    "$z = r \\sin{\\theta}$\n",
    "\n",
    "# Premise\n",
    "\n",
    "The idea of this game is to stradle between universes with different dimensionalities. The Player object by default inhabits a 4 dimensional world which has 3 spatial dimensions ($x, y, z$) and one time dimension ($t$). Into this world an otherworldy object randomly spawns, which warps the space time around it, causing the spatial deminsion which radiates from it's axis to collapse into the temporal dimension. The effect being that travel is restricted to movement towards the object. When the player approaches the object movement is best defined by polar coordinates.\n",
    "\n",
    "Force can only be applied such that the radial component is always decreasing.\n",
    "\n",
    "$\\hat{F} = [f_x, f_y, f_z]$  \n",
    "$f_x =   $"
   ]
  },
  {
   "cell_type": "code",
   "execution_count": null,
   "metadata": {
    "collapsed": true
   },
   "outputs": [],
   "source": [
    "import matplotlib.pyplot as plt\n",
    "import numpy as np\n",
    "\n",
    "%matplotlib inline"
   ]
  },
  {
   "cell_type": "code",
   "execution_count": null,
   "metadata": {
    "collapsed": true
   },
   "outputs": [],
   "source": [
    "x = 0"
   ]
  },
  {
   "cell_type": "code",
   "execution_count": 216,
   "metadata": {
    "collapsed": false
   },
   "outputs": [
    {
     "data": {
      "text/plain": [
       "<slot wrapper '__iter__' of 'list' objects>"
      ]
     },
     "execution_count": 216,
     "metadata": {},
     "output_type": "execute_result"
    }
   ],
   "source": []
  },
  {
   "cell_type": "markdown",
   "metadata": {},
   "source": [
    "### spherical coordinates\n",
    "\n",
    "$x = r \\sin{\\theta} \\cos{\\phi}$  \n",
    "$y = r \\sin{\\theta} \\sin{\\phi}$  \n",
    "$z = r \\cos{\\theta}$"
   ]
  },
  {
   "cell_type": "code",
   "execution_count": 211,
   "metadata": {
    "collapsed": false
   },
   "outputs": [
    {
     "data": {
      "text/plain": [
       "<matplotlib.collections.PathCollection at 0x1d429ac7f0>"
      ]
     },
     "execution_count": 211,
     "metadata": {},
     "output_type": "execute_result"
    },
    {
     "data": {
      "image/png": "[encoded data removed]",
      "text/plain": [
       "<matplotlib.figure.Figure at 0x1d423b9dd8>"
      ]
     },
     "metadata": {},
     "output_type": "display_data"
    }
   ],
   "source": [
    "#fig = plt.figure()\n",
    "\n",
    "#ax1 = fig.add_subplot(121)\n",
    "#ax2 = fig.add_subplot(122, polar = True)\n",
    "\n",
    "\n",
    "#X = np.linspace(-4*np.pi,4*np.pi, 100)\n",
    "#Y = np.sin(X)\n",
    "\n",
    "def cart2polar(X, Y):\n",
    "    \"\"\"\n",
    "    converts an X, Y pair to \n",
    "    \"\"\"\n",
    "\n",
    "    r =  np.sqrt((X**2) + (Y**2))\n",
    "    theta = np.arctan(Y/X)\n",
    "    theta[(X < 0)] = np.pi+ theta[(X < 0)]\n",
    "\n",
    "    return r, theta\n",
    "\n",
    "#theta[(X > 0) & (Y < 0)] += 2*np.pi\n",
    "\n",
    "#ax1.plot(X,Y)\n",
    "#ax2.plot(theta, r)\n",
    "\n",
    "#\n",
    "#ax1.scatter(X[10], Y[10])\n",
    "#ax2.scatter(theta[10], r[10])"
   ]
  },
  {
   "cell_type": "code",
   "execution_count": 208,
   "metadata": {
    "collapsed": false
   },
   "outputs": [
    {
     "data": {
      "text/plain": [
       "<matplotlib.collections.LineCollection at 0x1d427a1588>"
      ]
     },
     "execution_count": 208,
     "metadata": {},
     "output_type": "execute_result"
    },
    {
     "data": {
      "image/png": "[encoded data removed]",
      "text/plain": [
       "<matplotlib.figure.Figure at 0x1d427a1668>"
      ]
     },
     "metadata": {},
     "output_type": "display_data"
    }
   ],
   "source": [
    "#plt.plot( X, r)\n",
    "plt.plot( X, np.degrees(theta))\n",
    "plt.hlines(45,-10,10)\n",
    "plt.hlines(225,-10,10)\n",
    "#plt.plot( X, Y)\n",
    "\n"
   ]
  },
  {
   "cell_type": "markdown",
   "metadata": {
    "collapsed": false
   },
   "source": [
    "x = r sin(theta)\n",
    "\n",
    "r = x / sin(theta)\n",
    "theta = sin^-1(r/x)"
   ]
  },
  {
   "cell_type": "code",
   "execution_count": null,
   "metadata": {
    "collapsed": true
   },
   "outputs": [],
   "source": [
    "    var v_max = 2 # max velocity\n",
    "    \n",
    "    var impulse = new xy([0,0])\n",
    "    \n",
    "    console.log(\"velocty is \" + Ball.v)\n",
    "    console.log(\"momentum is \" + Ball.p.x + Ball.p.y)\n",
    "    \n",
    "    \n",
    "    # The momentum principle:\n",
    "    # -----------------------\n",
    "    # \n",
    "    # An object has momentum. Momentum is determined\n",
    "    # as the mass of the object multiplied by the object's \n",
    "    # velocity.\n",
    "    # \n",
    "    # py = vy * mass\n",
    "    # px = px * mass\n",
    "    # \n",
    "    # Force acts on momentum. The impulse is the force over dt.\n",
    "    # \n",
    "    # p = p + F/dt\n",
    "    #\n",
    "    \n",
    "    var xmlns = \"http:#www.w3.org/2000/svg\"\n",
    "    \n",
    "    # Quest: Find a way to land the traveller in the world\n",
    "    var traveller = document.createElementNS(xmlns, \"circle\")      \n",
    "    \n",
    "    traveller.setAttributeNS(null,\"x\",50)\n",
    "    traveller.setAttributeNS(null,\"y\",50)\n",
    "    traveller.setAttributeNS(null,\"r\",50)\n",
    "    traveller.setAttributeNS(null,\"fill\", \"black\")\n",
    "    document.documentElement.appendChild(traveller)\n",
    "    \n",
    "    # self def is called on page load.\n",
    "\n",
    "    def drawGameSVG() \n",
    "\n",
    "        # Play the game until the player stops.\n",
    "        gameLoop = setInterval(drawBall, 1)\n",
    "\n",
    "        # Add keyboard listener.\n",
    "        window.addEventListener('keydown', whatKey, true)\n",
    "        \n",
    "    \n",
    "\n",
    "    def drawBall() \n",
    "        Ball.updatepos(impulse)\n",
    "        impulse.x = 0\n",
    "        impulse.y = 0\n",
    "        \n",
    "        # Change the player location.\n",
    "        player.setAttribute(\"cx\", Ball.loc.x)\n",
    "        player.setAttribute(\"cy\", Ball.loc.y)\n",
    "    \n",
    "    # Get key press.\n",
    "    def whatKey(evt) \n",
    "\n",
    "        switch (evt.keyCode) \n",
    "            # Left arrow.\n",
    "            case 37:\n",
    "            impulse.x = -1\n",
    "            break\n",
    "            # Right arrow.\n",
    "            case 39:\n",
    "            impulse.x = 1\n",
    "            break\n",
    "            #Up arrow\n",
    "            case 38:\n",
    "            impulse.y = -1\n",
    "            break\n",
    "            #Down arrow\n",
    "            case 40:\n",
    "            impulse.y = 1\n",
    "            break"
   ]
  },
  {
   "cell_type": "markdown",
   "metadata": {
    "collapsed": true
   },
   "source": [
    "`np.arccos` is valid over [0, pi]. At theta = pi+x, what does it return?"
   ]
  },
  {
   "cell_type": "code",
   "execution_count": 23,
   "metadata": {
    "collapsed": false
   },
   "outputs": [
    {
     "name": "stderr",
     "output_type": "stream",
     "text": [
      "c:\\program files\\python35\\lib\\site-packages\\ipykernel\\__main__.py:1: RuntimeWarning: invalid value encountered in arccos\n",
      "  if __name__ == '__main__':\n"
     ]
    },
    {
     "data": {
      "text/plain": [
       "[<matplotlib.lines.Line2D at 0x42d40b12b0>]"
      ]
     },
     "execution_count": 23,
     "metadata": {},
     "output_type": "execute_result"
    },
    {
     "data": {
      "image/png": "[encoded data removed]",
      "text/plain": [
       "<matplotlib.figure.Figure at 0x42d401e940>"
      ]
     },
     "metadata": {},
     "output_type": "display_data"
    }
   ],
   "source": [
    "plt.plot(np.linspace(-2*np.pi,2*np.pi,500 ), np.arccos(np.linspace(-2*np.pi,2*np.pi,500 )))"
   ]
  },
  {
   "cell_type": "code",
   "execution_count": 29,
   "metadata": {
    "collapsed": false
   },
   "outputs": [
    {
     "data": {
      "text/plain": [
       "[<matplotlib.lines.Line2D at 0x42d4055a90>]"
      ]
     },
     "execution_count": 29,
     "metadata": {},
     "output_type": "execute_result"
    },
    {
     "data": {
      "image/png": "[encoded data removed]",
      "text/plain": [
       "<matplotlib.figure.Figure at 0x42d4004588>"
      ]
     },
     "metadata": {},
     "output_type": "display_data"
    }
   ],
   "source": [
    "plt.plot(np.linspace(-200,2*np.pi,500 ), np.arctan(np.linspace(-2*np.pi,2*np.pi,500 )))"
   ]
  },
  {
   "cell_type": "code",
   "execution_count": 27,
   "metadata": {
    "collapsed": false
   },
   "outputs": [
    {
     "data": {
      "text/plain": [
       "-1.4711276743037347"
      ]
     },
     "execution_count": 27,
     "metadata": {},
     "output_type": "execute_result"
    }
   ],
   "source": [
    "np.arctan(-10)"
   ]
  },
  {
   "cell_type": "code",
   "execution_count": 32,
   "metadata": {
    "collapsed": false
   },
   "outputs": [],
   "source": [
    "R = 10\n",
    "\n",
    "phi = np.linspace(-2*np.pi,2*np.pi,500) / np.pi\n",
    "\n",
    "x = [(R - 0.5) * np.cos(phi) for phi in np.linspace(-2*np.pi,2*np.pi,500)]\n",
    "y = [(R - 0.5) * np.sin(phi) for phi in np.linspace(-2*np.pi,2*np.pi,500)]\n",
    "    "
   ]
  },
  {
   "cell_type": "code",
   "execution_count": 34,
   "metadata": {
    "collapsed": false
   },
   "outputs": [
    {
     "data": {
      "text/plain": [
       "[<matplotlib.lines.Line2D at 0x42d488ea90>]"
      ]
     },
     "execution_count": 34,
     "metadata": {},
     "output_type": "execute_result"
    },
    {
     "data": {
      "image/png": "[encoded data removed]",
      "text/plain": [
       "<matplotlib.figure.Figure at 0x42d488ee80>"
      ]
     },
     "metadata": {},
     "output_type": "display_data"
    }
   ],
   "source": [
    "plt.plot(phi, x)\n",
    "plt.plot(phi, y)"
   ]
  },
  {
   "cell_type": "code",
   "execution_count": null,
   "metadata": {
    "collapsed": true
   },
   "outputs": [],
   "source": []
  }
 ],
 "metadata": {
  "kernelspec": {
   "display_name": "Python 3",
   "language": "python",
   "name": "python3"
  },
  "language_info": {
   "codemirror_mode": {
    "name": "ipython",
    "version": 3
   },
   "file_extension": ".py",
   "mimetype": "text/x-python",
   "name": "python",
   "nbconvert_exporter": "python",
   "pygments_lexer": "ipython3",
   "version": "3.5.1"
  }
 },
 "nbformat": 4,
 "nbformat_minor": 0
}
